{
  "cells": [
    {
      "cell_type": "markdown",
      "source": [
        "#KAFKA PRODUCER PARA SUPLEMENTOS DEPORTIVOS \"**GAINSIGHT**\"\n",
        "\n",
        "###Este notebook extrae datos de suplementos deportivos usando SerpAPI (Google Shopping) y los envía a un tópico de Kafka para procesamiento en tiempo real.\n",
        "\n",
        "###Arquitectura: SerpAPI → Python → Kafka → MongoDB → Streamlit Dashboard\n"
      ],
      "metadata": {
        "id": "BDExH232r9J0"
      },
      "id": "BDExH232r9J0"
    },
    {
      "cell_type": "markdown",
      "source": [
        "# Importación de Librerías\n",
        "\n",
        " Importamos todas las librerías necesarias para:\n",
        " -  **Kafka**: Productor de mensajes\n",
        " -  **Requests**: Llamadas a SerpAPI\n",
        " -  **JSON**: Serialización de datos\n",
        " -  **Time/Datetime**: Control de tiempo y timestamps"
      ],
      "metadata": {
        "id": "mG3u1nrIsLHi"
      },
      "id": "mG3u1nrIsLHi"
    },
    {
      "cell_type": "code",
      "source": [
        "from kafka import KafkaProducer\n",
        "import json\n",
        "import requests\n",
        "from time import sleep\n",
        "from datetime import datetime"
      ],
      "metadata": {
        "id": "qlkTFWv2sIT5"
      },
      "id": "qlkTFWv2sIT5",
      "execution_count": null,
      "outputs": []
    },
    {
      "cell_type": "markdown",
      "source": [
        "# Configuración de SerpAPI\n",
        "\n",
        "SerpAPI nos permite acceder a los resultados de Google Shopping de forma estructurada.\n",
        " ### Parámetros importantes:\n",
        "-  **engine**: \"google_shopping\" para búsquedas de productos\n",
        "-  **hl**: \"es\" para idioma español\n",
        "-  **gl**: \"us\" para mejores resultados en suplementos (mercado más amplio)\n",
        "-  **format**: \"json\" para respuesta estructurada"
      ],
      "metadata": {
        "id": "0VA4h3IIsZNH"
      },
      "id": "0VA4h3IIsZNH"
    },
    {
      "cell_type": "code",
      "source": [
        "# Configuración de SerpAPI para Google Shopping\n",
        "SERPAPI_KEY = \"API\"  # Reemplazamos con nuestra API key\n",
        "\n",
        "params = {\n",
        "    \"engine\": \"google_shopping\",\n",
        "    \"format\": \"json\",\n",
        "    \"hl\": \"es\",           # Idioma: español\n",
        "    \"gl\": \"us\",           # Geolocalización: US (mejor catálogo de suplementos)\n",
        "    \"api_key\": SERPAPI_KEY\n",
        "}\n",
        "\n",
        "endpoint = \"https://serpapi.com/search\""
      ],
      "metadata": {
        "id": "K9_NAu7fskk_"
      },
      "id": "K9_NAu7fskk_",
      "execution_count": null,
      "outputs": []
    },
    {
      "cell_type": "markdown",
      "source": [
        "#Función de Extracción de Datos\n",
        "Esta función se encarga de hacer las consultas a Google Shopping a través de SerpAPI.\n",
        "### Funcionalidades:\n",
        "-  Manejo robusto de errores de conexión\n",
        "-  Timeout de 30 segundos para evitar bloqueos\n",
        "-  Parámetros configurables para paginación\n",
        "-  Validación de respuestas HTTP\n"
      ],
      "metadata": {
        "id": "T0Aj-RGmtiO3"
      },
      "id": "T0Aj-RGmtiO3"
    },
    {
      "cell_type": "code",
      "source": [
        "def get_supplements_info(keyword, start=0, num_results=20):\n",
        "    \"\"\"\n",
        "    Obtiene información de suplementos deportivos desde Google Shopping\n",
        "\n",
        "    Args:\n",
        "        keyword (str): Término de búsqueda (ej: \"proteína whey\")\n",
        "        start (int): Posición inicial para paginación\n",
        "        num_results (int): Número máximo de resultados a obtener\n",
        "\n",
        "    Returns:\n",
        "        dict: Respuesta JSON de SerpAPI con productos encontrados\n",
        "        None: Si hay errores de conexión o API\n",
        "    \"\"\"\n",
        "    search_params = params.copy()\n",
        "    search_params[\"q\"] = keyword\n",
        "    search_params[\"start\"] = start\n",
        "    search_params[\"num\"] = num_results\n",
        "\n",
        "    try:\n",
        "        response = requests.get(endpoint, params=search_params, timeout=30)\n",
        "\n",
        "        if response.status_code == 200:\n",
        "            return response.json()\n",
        "        else:\n",
        "            print(f\"❌ Error en la búsqueda: {response.status_code}\")\n",
        "            print(f\"   Respuesta: {response.text[:200]}...\")\n",
        "            return None\n",
        "\n",
        "    except requests.exceptions.Timeout:\n",
        "        print(f\"⏰ Timeout en la búsqueda de: {keyword}\")\n",
        "        return None\n",
        "    except requests.exceptions.ConnectionError:\n",
        "        print(f\"🌐 Error de conexión para: {keyword}\")\n",
        "        return None\n",
        "    except Exception as e:\n",
        "        print(f\"❌ Error inesperado: {e}\")\n",
        "        return None"
      ],
      "metadata": {
        "id": "FDO77z9tuR6q"
      },
      "id": "FDO77z9tuR6q",
      "execution_count": null,
      "outputs": []
    },
    {
      "cell_type": "markdown",
      "source": [
        "#Configuración del Productor Kafka\n",
        "\n",
        " Establecemos la conexión con el broker de Kafka local.\n",
        "\n",
        " ### Configuración:\n",
        "-  **bootstrap_servers**: Dirección del broker Kafka\n",
        "-  **value_serializer**: Convierte objetos Python a JSON UTF-8\n",
        "-  **Manejo de errores**: Validación de conexión antes de proceder"
      ],
      "metadata": {
        "id": "5GHbTz3VuXs9"
      },
      "id": "5GHbTz3VuXs9"
    },
    {
      "cell_type": "code",
      "source": [
        "# Configurar y validar conexión con Kafka\n",
        "try:\n",
        "    producer = KafkaProducer(\n",
        "        bootstrap_servers=[\"localhost:9092\"],\n",
        "        value_serializer=lambda m: json.dumps(m, ensure_ascii=False).encode(\"utf-8\"),\n",
        "        retries=3,                    # Reintentos automáticos\n",
        "        acks='all',                   # Confirmación de todos los replicas\n",
        "        compression_type='gzip'       # Compresión para mejor performance\n",
        "    )\n",
        "    print(\"✅ Conexión establecida con Kafka\")\n",
        "    print(f\"📡 Broker: localhost:9092\")\n",
        "\n",
        "except Exception as e:\n",
        "    print(\"❌ Error: Kafka broker no disponible\")\n",
        "    print(\"🔧 Solución: Asegúrate que Kafka está ejecutándose en localhost:9092\")\n",
        "    print(f\"   Comando: bin/kafka-server-start.sh config/server.properties\")\n",
        "    raise e\n",
        "\n",
        "# Configuración del tópico\n",
        "topic = \"supplement_products\"\n",
        "print(f\"📊 Tópico configurado: {topic}\")"
      ],
      "metadata": {
        "id": "DHHfUTVxuia4"
      },
      "id": "DHHfUTVxuia4",
      "execution_count": null,
      "outputs": []
    },
    {
      "cell_type": "markdown",
      "source": [
        "# Categorías de Suplementos a Procesar\n",
        "\n",
        " Definimos las categorías más importantes del mercado de suplementos deportivos.\n",
        "\n",
        " ### Categorías incluidas:\n",
        "1.  **Proteínas**: Whey y vegana para diferentes públicos\n",
        "2.  **Performance**: Creatina, BCAAs, pre-entrenos para rendimiento\n",
        "3.  **Recuperación**: Glutamina para recuperación muscular\n",
        "4.  **Salud General**: Multivitamínicos, Omega-3\n",
        "5.  **Pérdida de Peso**: Quemadores de grasa\n",
        "6.  **Conveniencia**: Barras proteicas para consumo fácil"
      ],
      "metadata": {
        "id": "P-zeI5w9unlW"
      },
      "id": "P-zeI5w9unlW"
    },
    {
      "cell_type": "code",
      "source": [
        "supplement_categories = [\n",
        "    \"proteína whey\",           # Proteína más popular del mercado\n",
        "    \"creatina monohidrato\",    # Suplemento más estudiado científicamente\n",
        "    \"pre-entrenamiento\",       # Energizantes y potenciadores de rendimiento\n",
        "    \"bcaa\",                    # Aminoácidos de cadena ramificada\n",
        "    \"glutamina\",              # Recuperación y sistema inmune\n",
        "    \"quemadores de grasa\",     # Termogénicos y fat burners\n",
        "    \"multivitamínicos\",        # Suplementos de micronutrientes\n",
        "    \"omega 3\",                # Ácidos grasos esenciales\n",
        "    \"proteína vegana\",         # Alternativa plant-based\n",
        "    \"barras proteicas\"         # Suplementos convenientes\n",
        "]\n",
        "\n",
        "print(f\"🎯 Categorías a procesar: {len(supplement_categories)}\")\n",
        "for i, category in enumerate(supplement_categories, 1):\n",
        "    print(f\"   {i:2d}. {category}\")"
      ],
      "metadata": {
        "id": "6zJzfEvqu3nZ"
      },
      "id": "6zJzfEvqu3nZ",
      "execution_count": null,
      "outputs": []
    },
    {
      "cell_type": "markdown",
      "source": [
        "# Procesamiento Principal y Envío a Kafka\n",
        "\n",
        "### Esta sección ejecuta el loop principal que:\n",
        "1. Itera sobre cada categoría de suplementos\n",
        "2. Extrae productos de Google Shopping via SerpAPI\n",
        "3. Procesa y estructura los datos\n",
        "4. Envía cada producto como mensaje a Kafka\n",
        "\n",
        "### Estructura del mensaje:\n",
        "- **type**: Identificador del tipo de mensaje\n",
        "- **category**: Categoría del suplemento\n",
        "- **timestamp**: Marca temporal de procesamiento\n",
        "- **data**: Información completa del producto"
      ],
      "metadata": {
        "id": "NFxk6rJdu7Zm"
      },
      "id": "NFxk6rJdu7Zm"
    },
    {
      "cell_type": "code",
      "source": [
        "# Estadísticas del procesamiento\n",
        "total_products_sent = 0\n",
        "successful_categories = 0\n",
        "failed_categories = []\n",
        "\n",
        "print(\"\\n\" + \"=\"*60)\n",
        "print(\"🚀 INICIANDO PROCESAMIENTO DE CATEGORÍAS\")\n",
        "print(\"=\"*60)\n",
        "\n",
        "for category_index, category in enumerate(supplement_categories, 1):\n",
        "    print(f\"\\n🔍 [{category_index}/{len(supplement_categories)}] Procesando: {category}\")\n",
        "    print(\"-\" * 50)\n",
        "\n",
        "    # Obtener datos de SerpAPI\n",
        "    data = get_supplements_info(category, num_results=40)  # Aumentamos a 40 para mejor cobertura\n",
        "\n",
        "    if data and \"shopping_results\" in data:\n",
        "        products = data[\"shopping_results\"]\n",
        "        products_count = len(products)\n",
        "        print(f\"   🛍️ Encontrados: {products_count} productos\")\n",
        "\n",
        "        # Contador para esta categoría\n",
        "        category_sent = 0\n",
        "\n",
        "        # Procesar y enviar cada producto\n",
        "        for product_index, product in enumerate(products, 1):\n",
        "            try:\n",
        "                # Estructurar el mensaje\n",
        "                message = {\n",
        "                    \"type\": \"supplement_product\",\n",
        "                    \"search_category\": category,\n",
        "                    \"timestamp\": datetime.now().isoformat(),\n",
        "                    \"metadata\": {\n",
        "                        \"api_source\": \"serpapi_google_shopping\",\n",
        "                        \"processed_at\": datetime.now().isoformat(),\n",
        "                        \"category_index\": category_index,\n",
        "                        \"product_index\": product_index\n",
        "                    },\n",
        "                    # Datos del producto\n",
        "                    \"position\": product.get(\"position\"),\n",
        "                    \"title\": product.get(\"title\"),\n",
        "                    \"price\": product.get(\"price\"),\n",
        "                    \"extracted_price\": product.get(\"extracted_price\"),\n",
        "                    \"source\": product.get(\"source\"),\n",
        "                    \"rating\": product.get(\"rating\"),\n",
        "                    \"reviews\": product.get(\"reviews\"),\n",
        "                    \"link\": product.get(\"product_link\"),\n",
        "                    \"image\": product.get(\"thumbnail\"),\n",
        "                    \"brand\": product.get(\"brand\", \"N/A\"),\n",
        "                    \"delivery\": product.get(\"delivery\", \"N/A\")\n",
        "                }\n",
        "\n",
        "                # Enviar a Kafka\n",
        "                producer.send(topic, value=message)\n",
        "\n",
        "                # Mostrar progreso\n",
        "                title_truncated = message.get('title', 'Sin título')[:50]\n",
        "                price = message.get('price', 'N/A')\n",
        "                source = message.get('source', 'N/A')\n",
        "\n",
        "                print(f\"   📦 [{product_index:2d}/{products_count}] {title_truncated}...\")\n",
        "                print(f\"       💰 {price} | 🏪 {source}\")\n",
        "\n",
        "                category_sent += 1\n",
        "                total_products_sent += 1\n",
        "\n",
        "                # Pausa para evitar saturación\n",
        "                sleep(0.3)\n",
        "\n",
        "            except Exception as e:\n",
        "                print(f\"   ❌ Error procesando producto {product_index}: {e}\")\n",
        "                continue\n",
        "\n",
        "        successful_categories += 1\n",
        "        print(f\"   ✅ Categoría completada: {category_sent} productos enviados\")\n",
        "\n",
        "    elif not data:\n",
        "        print(f\"   ❌ No se pudieron obtener datos para: {category}\")\n",
        "        failed_categories.append(category)\n",
        "    else:\n",
        "        print(f\"   ⚠️ No se encontraron productos para: {category}\")\n",
        "        failed_categories.append(category)\n",
        "\n",
        "    # Pausa entre categorías para respetar rate limits\n",
        "    if category_index < len(supplement_categories):\n",
        "        print(f\"   ⏳ Pausa de 2 segundos antes de la siguiente categoría...\")\n",
        "        sleep(2)"
      ],
      "metadata": {
        "id": "ch1yyrzKvkE_"
      },
      "id": "ch1yyrzKvkE_",
      "execution_count": null,
      "outputs": []
    },
    {
      "cell_type": "markdown",
      "source": [
        "# Finalización y Estadísticas\n",
        "\n",
        "### Proceso final que:\n",
        "- Asegura que todos los mensajes se envíen (flush)\n",
        "- Muestra estadísticas detalladas del procesamiento\n",
        "- Reporta categorías exitosas y fallidas\n",
        "- Proporciona métricas para monitoreo"
      ],
      "metadata": {
        "id": "JdKb1Ql5vqm8"
      },
      "id": "JdKb1Ql5vqm8"
    },
    {
      "cell_type": "code",
      "source": [
        "# Asegurar que todos los mensajes se envíen\n",
        "producer.flush()\n",
        "print(\"\\n\" + \"=\"*60)\n",
        "print(\"🎯 PROCESAMIENTO COMPLETADO\")\n",
        "print(\"=\"*60)\n",
        "\n",
        "print(f\"📊 Estadísticas finales:\")\n",
        "print(f\"   ✅ Categorías procesadas exitosamente: {successful_categories}/{len(supplement_categories)}\")\n",
        "print(f\"   📦 Total productos enviados: {total_products_sent}\")\n",
        "print(f\"   📊 Promedio productos por categoría: {total_products_sent/len(supplement_categories):.1f}\")\n",
        "print(f\"   🎯 Tópico utilizado: {topic}\")\n",
        "\n",
        "if failed_categories:\n",
        "    print(f\"\\n⚠️ Categorías con problemas:\")\n",
        "    for failed in failed_categories:\n",
        "        print(f\"   - {failed}\")\n",
        "\n",
        "print(f\"\\n🕐 Procesamiento iniciado: {datetime.now().strftime('%Y-%m-%d %H:%M:%S')}\")\n",
        "print(f\"💾 Los datos están listos para ser consumidos desde Kafka\")\n",
        "\n",
        "# Cerrar el productor\n",
        "producer.close()\n",
        "print(\"🔌 Conexión con Kafka cerrada correctamente\")"
      ],
      "metadata": {
        "id": "mATpg-Qmvxey"
      },
      "id": "mATpg-Qmvxey",
      "execution_count": null,
      "outputs": []
    }
  ],
  "metadata": {
    "kernelspec": {
      "display_name": "jupy",
      "language": "python",
      "name": "jup_lab"
    },
    "language_info": {
      "codemirror_mode": {
        "name": "ipython",
        "version": 3
      },
      "file_extension": ".py",
      "mimetype": "text/x-python",
      "name": "python",
      "nbconvert_exporter": "python",
      "pygments_lexer": "ipython3",
      "version": "3.13.0"
    },
    "colab": {
      "provenance": []
    }
  },
  "nbformat": 4,
  "nbformat_minor": 5
}